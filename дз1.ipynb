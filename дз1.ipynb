{
 "cells": [
  {
   "cell_type": "code",
   "execution_count": 22,
   "metadata": {
    "scrolled": true
   },
   "outputs": [
    {
     "name": "stdout",
     "output_type": "stream",
     "text": [
      "Утка-маляр 🦆 решила выпить зайти в бар. Взять ей зонтик? ☂️\n",
      "Выберите: да/нет\n",
      "да\n",
      "Выпить 4 Пива\n"
     ]
    }
   ],
   "source": [
    "import random\n",
    "\n",
    "\n",
    "def step2_umbrella():\n",
    "    if random.randint(1, 2) == 1:\n",
    "        print(f'Выпить {random.randint(2, 4)} Пива')\n",
    "    else:\n",
    "        print('Пить литр Сангрии')\n",
    "\n",
    "\n",
    "def step2_no_umbrella():\n",
    "    print('Надеть красный кандибобер')\n",
    "\n",
    "\n",
    "def step1():\n",
    "    print(\n",
    "        'Утка-маляр 🦆 решила выпить зайти в бар. '\n",
    "        'Взять ей зонтик? ☂️'\n",
    "    )\n",
    "    option = ''\n",
    "    options = {'да': True, 'нет': False}\n",
    "    while option not in options:\n",
    "        print('Выберите: {}/{}'.format(*options))\n",
    "        option = input()\n",
    "\n",
    "    if options[option]:\n",
    "        return step2_umbrella()\n",
    "    return step2_no_umbrella()\n",
    "\n",
    "if __name__ == '__main__':\n",
    "    step1()\n"
   ]
  }
 ],
 "metadata": {
  "kernelspec": {
   "display_name": "Python 3",
   "language": "python",
   "name": "python3"
  },
  "language_info": {
   "codemirror_mode": {
    "name": "ipython",
    "version": 3
   },
   "file_extension": ".py",
   "mimetype": "text/x-python",
   "name": "python",
   "nbconvert_exporter": "python",
   "pygments_lexer": "ipython3",
   "version": "3.8.2"
  }
 },
 "nbformat": 4,
 "nbformat_minor": 4
}
